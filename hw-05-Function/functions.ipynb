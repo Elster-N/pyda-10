{
 "cells": [
  {
   "cell_type": "markdown",
   "metadata": {},
   "source": [
    "Вы работаете секретарем и вам постоянно приходят различные документы. Вы должны быть очень внимательны, чтобы не потерять ни один документ. Каталог документов хранится в следующем виде:"
   ]
  },
  {
   "cell_type": "code",
   "execution_count": null,
   "metadata": {},
   "outputs": [],
   "source": [
    "documents = [\n",
    "    {'type': 'passport', 'number': '2207 876234', 'name': 'Василий Гупкин'},\n",
    "    {'type': 'invoice', 'number': '11-2', 'name': 'Геннадий Покемонов'},\n",
    "    {'type': 'insurance', 'number': '10006', 'name': 'Аристарх Павлов'}\n",
    "]"
   ]
  },
  {
   "cell_type": "markdown",
   "metadata": {},
   "source": [
    "Перечень полок, на которых находятся документы хранится в следующем виде:"
   ]
  },
  {
   "cell_type": "code",
   "execution_count": null,
   "metadata": {},
   "outputs": [],
   "source": [
    "directories = {\n",
    "    '1': ['2207 876234', '11-2'],\n",
    "    '2': ['10006'],\n",
    "    '3': []\n",
    "}"
   ]
  },
  {
   "cell_type": "markdown",
   "metadata": {},
   "source": [
    "Необходимо реализовать пользовательские команды (внимание! это не название функций, которые должны быть выразительными, а команды, которые вводит пользователь, чтобы получить необходимый результат):\n",
    "  \n",
    "- p – people – команда, которая спросит номер документа и выведет имя человека, которому он принадлежит;  \n",
    "- s – shelf – команда, которая спросит номер документа и выведет номер полки, на которой он находится  \n",
    "*Правильно обработайте ситуации, когда пользователь будет вводить несуществующий документ*.\n",
    "- l – list – команда, которая выведет список всех документов в формате   \n",
    "**passport \"2207 876234\" \"Василий Гупкин\"**  \n",
    "- as – add shelf – команда, которая спросит номер новой полки и добавит ее в перечень. *Предусмотрите случай, когда пользователь добавляет полку, которая уже существует*.\n",
    "- d – delete – команда, которая спросит номер документа и удалит его из каталога и из перечня полок. *Предусмотрите сценарий, когда пользователь вводит несуществующий документ*;  \n",
    "- m – move – команда, которая спросит номер документа и целевую полку и переместит его с текущей полки на целевую. *Корректно обработайте кейсы, когда пользователь пытается переместить несуществующий документ или переместить документ на несуществующую полку*;  \n",
    "- a – add – команда, которая добавит новый документ в каталог и в перечень полок, спросив его номер, тип, имя владельца и номер полки, на котором он будет храниться. *Корректно обработайте ситуацию, когда пользователь будет пытаться добавить документ на несуществующую полку*."
   ]
  },
  {
   "cell_type": "code",
   "execution_count": null,
   "metadata": {},
   "outputs": [],
   "source": [
    "def get_people(num_doc):\n",
    "    for n in documents:\n",
    "        if n['number'] == num_doc:\n",
    "            return print(n['name'])\n",
    "    return print('Такого документа нет в базе')"
   ]
  },
  {
   "cell_type": "code",
   "execution_count": null,
   "metadata": {},
   "outputs": [],
   "source": [
    "def get_shelf(num_doc):\n",
    "    for shelf, number in directories.items():\n",
    "        if num_doc in number:\n",
    "            return print(shelf)\n",
    "    return print('Такого документа нет в базе')"
   ]
  },
  {
   "cell_type": "code",
   "execution_count": null,
   "metadata": {},
   "outputs": [],
   "source": [
    "def get_list():\n",
    "    for el in documents:\n",
    "        print(\"**\" + el['type'] + \" '\" + el['number'] + \"' '\" + el['name'] + \"'**\")"
   ]
  },
  {
   "cell_type": "code",
   "execution_count": null,
   "metadata": {},
   "outputs": [],
   "source": [
    "def add_shelf(new_shelf):\n",
    "    if new_shelf not in directories:\n",
    "        directories[new_shelf] = []\n",
    "        print(f'Создана полка с номером {new_shelf}')\n",
    "    else:\n",
    "        print('Полка с таким номером уже существует')"
   ]
  },
  {
   "cell_type": "code",
   "execution_count": null,
   "metadata": {},
   "outputs": [],
   "source": [
    "def delete(num_doc):\n",
    "    del_flag = False\n",
    "    for i in documents:\n",
    "        if i['number'] == num_doc:\n",
    "            num_doc = i['number']\n",
    "            documents.remove(i)\n",
    "            del_flag = True\n",
    "            if del_flag == False:\n",
    "                print('Такого документа нет в базе')\n",
    "        for key, value in directories.items():\n",
    "            if value.count(num_doc) != 0:\n",
    "                directories[key].remove(num_doc)\n",
    "                print(f'Документ {num_doc} удален')"
   ]
  },
  {
   "cell_type": "code",
   "execution_count": null,
   "metadata": {},
   "outputs": [],
   "source": [
    "def move(num_doc):\n",
    "    for n in documents:\n",
    "        if n['number'] == num_doc:\n",
    "            new_shelf_num = input('Введите номер полки, на которую необходимо переместить документ')\n",
    "            if new_shelf_num in directories:\n",
    "                for key, value in directories.items():\n",
    "                    if value.count(num_doc) != 0:\n",
    "                        directories[key].remove(num_doc)\n",
    "                directories[new_shelf_num].append(num_doc)\n",
    "                print(f'Документ {num_doc} перемещен')\n",
    "                return\n",
    "            else:\n",
    "                print('Такой полки не существует')\n",
    "    return 'Такого документа нет в базе'"
   ]
  },
  {
   "cell_type": "code",
   "execution_count": null,
   "metadata": {},
   "outputs": [],
   "source": [
    "def add_doc(documents, directories):\n",
    "    num_doc = input('Введите номер документа')\n",
    "    doc_type = input('Введите тип документа')\n",
    "    doc_name = input('Введите ФИО')\n",
    "    doc_shelf = input('Введите номер полки')\n",
    "    if doc_shelf not in directories:\n",
    "        print('Такой полки не существует')\n",
    "        return\n",
    "    documents.append({'type': doc_type, 'number': num_doc, 'name': doc_name})\n",
    "    directories[doc_shelf].append(num_doc)\n",
    "    print(f'Документ {num_doc} создан')\n",
    "    return"
   ]
  },
  {
   "cell_type": "code",
   "execution_count": null,
   "metadata": {},
   "outputs": [],
   "source": [
    "def main():\n",
    "    \n",
    "    command = input('Введите команду')\n",
    "    while True:\n",
    "        if command == 'p':\n",
    "            num_doc = input('Введите номер документа')\n",
    "            get_people(num_doc)\n",
    "            break\n",
    "        elif command == 's':\n",
    "            num_doc = input('Введите номер документа')\n",
    "            get_shelf(num_doc)\n",
    "            break\n",
    "        elif command == 'l':\n",
    "            get_list()\n",
    "            break\n",
    "        elif command == 'as':\n",
    "            new_shelf = input('Введите номер новой полки')\n",
    "            add_shelf(new_shelf)\n",
    "            break\n",
    "        elif command == 'd':\n",
    "            num_doc = input('Введите номер документа для удаления')\n",
    "            delete(num_doc)  \n",
    "            break\n",
    "        elif command == 'm':\n",
    "            num_doc = input('Введите номер документа для перемещения')\n",
    "            move(num_doc)\n",
    "            break\n",
    "        elif command == 'a':\n",
    "            add_doc(documents, directories)\n",
    "            break\n",
    "        elif command == 'q':\n",
    "            break\n",
    "            "
   ]
  },
  {
   "cell_type": "code",
   "execution_count": null,
   "metadata": {},
   "outputs": [],
   "source": [
    "main()"
   ]
  },
  {
   "cell_type": "code",
   "execution_count": null,
   "metadata": {},
   "outputs": [],
   "source": []
  }
 ],
 "metadata": {
  "kernelspec": {
   "display_name": "Python 3",
   "language": "python",
   "name": "python3"
  },
  "language_info": {
   "codemirror_mode": {
    "name": "ipython",
    "version": 3
   },
   "file_extension": ".py",
   "mimetype": "text/x-python",
   "name": "python",
   "nbconvert_exporter": "python",
   "pygments_lexer": "ipython3",
   "version": "3.7.6"
  }
 },
 "nbformat": 4,
 "nbformat_minor": 2
}
