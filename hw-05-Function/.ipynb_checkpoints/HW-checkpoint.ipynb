{
 "cells": [
  {
   "cell_type": "code",
   "execution_count": null,
   "metadata": {},
   "outputs": [],
   "source": [
    "def get_people(num_doc):\n",
    "    for doc_dict in documents:\n",
    "        if doct_dict['number'] == num_doc:\n",
    "            return doc_dict['name']\n",
    "    return 'Такого документа нет в базе'"
   ]
  },
  {
   "cell_type": "code",
   "execution_count": null,
   "metadata": {},
   "outputs": [],
   "source": [
    "def get_shelf(num_doc):\n",
    "    for shelf, number in directories.items()\n",
    "        if num_doc in number:\n",
    "            return shelf\n",
    "    return 'Такого документа нет в базе'"
   ]
  },
  {
   "cell_type": "code",
   "execution_count": null,
   "metadata": {},
   "outputs": [],
   "source": [
    "def get_list():\n",
    "    for document in documents:\n",
    "        print(\"**\" + el['type'] + \" '\" + el['number'] + \"' '\" + el['name'] + \"'**\")\n",
    "# f-строки"
   ]
  },
  {
   "cell_type": "code",
   "execution_count": null,
   "metadata": {},
   "outputs": [],
   "source": [
    "def add_shelf(new_shelf):\n",
    "    if new_shelf not in directories:\n",
    "        directories[new_shelf] = []\n",
    "    else:\n",
    "        print('Полка с таким номером уже существует')"
   ]
  },
  {
   "cell_type": "code",
   "execution_count": null,
   "metadata": {},
   "outputs": [],
   "source": [
    "def delete():\n",
    "    doc_num = input('Введите номер документа для удаления данных пользователя')\n",
    "    del_flag = False\n",
    "    for i in documents:\n",
    "        if i['number'] == doc_num:\n",
    "            doc_num = i['number']\n",
    "            documents.remove(i)\n",
    "            del_flag = True\n",
    "        if del_flag == False:\n",
    "            print('Такого документа нет в базе')\n",
    "        for key, value in directories.items():\n",
    "            if value.count(doc_name) != 0:\n",
    "                directories[key].remove(doc_name)"
   ]
  },
  {
   "cell_type": "code",
   "execution_count": null,
   "metadata": {},
   "outputs": [],
   "source": [
    "#создает сразу новую полку\n",
    "\n",
    "def add_doc(documents, directories):\n",
    "    doc_num = input('Введите номер документа')\n",
    "    doc_type = input('Введите тип документа')\n",
    "    doc_name = input('Введите ФИО')\n",
    "    doc_shelf = input('Введите номер полки')\n",
    "    if doc_shelf not in directories:\n",
    "        directories[doc_shelf] = []\n",
    "        print(f'Создана новая полка {doc_shelf}')\n",
    "    documents.append({'type': doc_type, 'number'= doc_num, 'name' = doc_name})\n",
    "    directories[doc_shelf].append(doc_number)\n",
    "    return"
   ]
  },
  {
   "cell_type": "code",
   "execution_count": null,
   "metadata": {},
   "outputs": [],
   "source": [
    "#выдает ошибку по полке\n",
    "\n",
    "def add_doc(documents, directories):\n",
    "    doc_num = input('Введите номер документа')\n",
    "    doc_type = input('Введите тип документа')\n",
    "    doc_name = input('Введите ФИО')\n",
    "    doc_shelf = input('Введите номер полки')\n",
    "    if doc_shelf not in directories:\n",
    "        print('Такой полки не существует')\n",
    "        return\n",
    "    documents.append({'type': doc_type, 'number'= doc_num, 'name' = doc_name})\n",
    "    directories[doc_shelf].append(doc_number)\n",
    "    return"
   ]
  },
  {
   "cell_type": "code",
   "execution_count": null,
   "metadata": {},
   "outputs": [],
   "source": [
    "def move():\n",
    "    doc_num = input('Введите номер документа для перемещения')\n",
    "    for doc_dict in documents:\n",
    "        if doc_num != doct_dict['number']:\n",
    "        print('Такого документа нет в базе')\n",
    "        return\n",
    "    new_shelf_num = input('Введите номер полки, на которую необходимо переместить документ')\n",
    "    if new_shelf_num in directories:\n",
    "        for key, value in directories.items():\n",
    "            if value.count(doc_name) != 0:\n",
    "                directories[key].remove(doc_num)\n",
    "        directories[shelf_num_new].append(doc_num)\n",
    "    else:\n",
    "        print('Такой полки не существует')"
   ]
  },
  {
   "cell_type": "code",
   "execution_count": null,
   "metadata": {},
   "outputs": [],
   "source": [
    "def main():\n",
    "    \n",
    "    command = input('Введите команду')\n",
    "    while True:\n",
    "        if command = 'p':\n",
    "            num_doc = input('Введите номер документа')\n",
    "        elif:\n",
    "            \n",
    "        elif:\n",
    "            \n",
    "        elif command = 'q':\n",
    "            break\n",
    "            \n",
    "        "
   ]
  }
 ],
 "metadata": {
  "kernelspec": {
   "display_name": "Python 3",
   "language": "python",
   "name": "python3"
  },
  "language_info": {
   "codemirror_mode": {
    "name": "ipython",
    "version": 3
   },
   "file_extension": ".py",
   "mimetype": "text/x-python",
   "name": "python",
   "nbconvert_exporter": "python",
   "pygments_lexer": "ipython3",
   "version": "3.7.6"
  }
 },
 "nbformat": 4,
 "nbformat_minor": 2
}
