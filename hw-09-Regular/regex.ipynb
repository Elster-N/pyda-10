{
 "cells": [
  {
   "cell_type": "code",
   "execution_count": 1,
   "metadata": {},
   "outputs": [],
   "source": [
    "import re"
   ]
  },
  {
   "cell_type": "markdown",
   "metadata": {},
   "source": [
    "**Задание 1.** Напишите функцию, которая принимает на вход строку и проверяет является ли она валидным транспортным номером. Если да, то функция должна возвращать отдельно номер и регион."
   ]
  },
  {
   "cell_type": "code",
   "execution_count": 21,
   "metadata": {},
   "outputs": [
    {
     "name": "stdout",
     "output_type": "stream",
     "text": [
      "Введите госномерс111су777\n",
      "111-777 Федеральный номер\n"
     ]
    }
   ],
   "source": [
    "number = input('Введите госномер')\n",
    "\n",
    "fed_number = r'(?:([а,в,е,к,м,н,о,р,с,т,у,х]{1})(\\d{3})([а,в,е,к,м,н,о,р,с,т,у,х]{2})(\\d{2,3})(RUS|$))'\n",
    "dip_number = r'(?:(\\d{3})([а,в,е,к,м,н,о,р,с,т,у,х]{1,2})(\\d{1})(\\d{2,3})(RUS|$))'\n",
    "army_number = r'(?:(\\d{3})([а,в,е,к,м,н,о,р,с,т,у,х]{2})(\\d{2,3})(RUS|$))'\n",
    "com_number = r'(?:([а,в,е,к,м,н,о,р,с,т,у,х]{2})(\\d{3})(\\d{2,3})(RUS|$))'\n",
    "mvd_number = r'(?:([а,в,е,к,м,н,о,р,с,т,у,х]{1})(\\d{3})(\\d{2,3})(RUS|$))'\n",
    "\n",
    "if re.findall(fed_number, number):\n",
    "    print(re.sub(fed_number, r'\\2-\\4', number), 'Федеральный номер')\n",
    "elif re.findall(com_number, number):\n",
    "    print(re.sub(com_number, r'\\2-\\3', number), 'Номер маршрутного транспортного средства')\n",
    "elif re.findall(mvd_number, number):\n",
    "    print(re.sub(mvd_number, r'\\2-\\3', number), 'Номер МВД')\n",
    "elif re.findall(dip_number, number):\n",
    "    print(re.sub(dip_number, r'\\1-\\3', number), 'Дипломатический номер')\n",
    "elif re.findall(army_number, number):\n",
    "    print(re.sub(army_number, r'\\1-\\3', number), 'Номер вооруженных сил')\n",
    "\n",
    "else:\n",
    "    print('Неверный госномер')"
   ]
  },
  {
   "cell_type": "markdown",
   "metadata": {},
   "source": [
    "**Задание 2**. Постарайтесь написать (в крайнем случае найти) самый полный шаблон для проверки e-mail адресов через регулярное выражение, которая проверяет e-mail адрес на валидность. Можно руководствоваться следующими минимальными требованиями:\n",
    "* адрес должен содержать специальный символ \"@\", который отделяет имя пользователя почтовой системы от доменного имени;\n",
    "* адрес не должен содержать следующие символы: \"пробел\", \",\", \":\", \";\", \"!\", \"#\", \"%\", \"*\", \"(\", \")\", \"=\", \"+\", \"{\", \"}\", \" \" \", \" ' \", \" / \", \" \\ \" и \"|\";\n",
    "* адрес должен состоять только из латинских символов;\n",
    "* после символа \"@\" должна быть как минимум одна \".\";\n",
    "* после последней точки должно быть не менее 2-х и не более 4-х символов, причем наличие цифр не допускается;\n",
    "* между последней точкой и символом \"@\" должно быть не менее 2-х символов\n",
    "* слева от \"@\" должно быть не менее четырех символов\n"
   ]
  },
  {
   "cell_type": "code",
   "execution_count": 13,
   "metadata": {},
   "outputs": [
    {
     "name": "stdout",
     "output_type": "stream",
     "text": [
      "Введите адресya@yandex.r\n",
      "Некорректный адрес\n"
     ]
    }
   ],
   "source": [
    "email = input('Введите адрес')\n",
    "email_val = r'(^|\\s)[-a-z0-9_.]+@([-a-z0-9]+\\.)+[a-z]{2,6}(\\s|$)'\n",
    "if re.findall(email_val, email):\n",
    "    print('Корректный адрес')\n",
    "else:\n",
    "    print('Некорректный адрес')"
   ]
  },
  {
   "cell_type": "markdown",
   "metadata": {},
   "source": [
    "**Задание 3.** Напишите функцию, которая будет удалять все последовательные повторы слов из заданной строки при помощи регулярных выражений."
   ]
  },
  {
   "cell_type": "code",
   "execution_count": 10,
   "metadata": {
    "scrolled": true
   },
   "outputs": [
    {
     "name": "stdout",
     "output_type": "stream",
     "text": [
      "Введите текстодин один два три\n",
      "один два три\n"
     ]
    }
   ],
   "source": [
    "text = input('Введите текст')\n",
    "re_text = re.sub(r'([а-яА-Я]+\\s)\\1+', r'\\1', text)\n",
    "print(re_text)"
   ]
  },
  {
   "cell_type": "markdown",
   "metadata": {},
   "source": [
    "**Задание 4**. Напишите функцию, которая будет проверять номер сотового телефона на валидность, если он валиден, то переводить его в формат:   \n",
    "+7(xxx)-xxx-xx-xx  \n",
    "Постарайтесь предусмотреть как можно больше адекватных форматов изначального ввода номера.\n",
    "Примеры валидных форматов:\n",
    "- +7 955 555-55-55;\n",
    "- 9555555555;\n",
    "- 8(955)555-55-55;\n",
    "- +7 955 555 55 55;\n",
    "- 7(955) 555-55-55;\n",
    "- +7 955+555+55+55."
   ]
  },
  {
   "cell_type": "code",
   "execution_count": 20,
   "metadata": {},
   "outputs": [
    {
     "name": "stdout",
     "output_type": "stream",
     "text": [
      "Введите номер7(955) 555-55-55\n",
      "ok\n"
     ]
    }
   ],
   "source": [
    "phone = input('Введите номер')\n",
    "reg_phone = r'((8|\\+7)[\\- ]?)?(\\(?\\d{3}\\)?[\\- ]?)?[\\d\\- ]{7,10}$'\n",
    "\n",
    "if re.findall(reg_phone, phone):\n",
    "    \n",
    "    print('ok')"
   ]
  },
  {
   "cell_type": "code",
   "execution_count": null,
   "metadata": {},
   "outputs": [],
   "source": []
  }
 ],
 "metadata": {
  "kernelspec": {
   "display_name": "Python 3",
   "language": "python",
   "name": "python3"
  },
  "language_info": {
   "codemirror_mode": {
    "name": "ipython",
    "version": 3
   },
   "file_extension": ".py",
   "mimetype": "text/x-python",
   "name": "python",
   "nbconvert_exporter": "python",
   "pygments_lexer": "ipython3",
   "version": "3.7.6"
  }
 },
 "nbformat": 4,
 "nbformat_minor": 2
}
